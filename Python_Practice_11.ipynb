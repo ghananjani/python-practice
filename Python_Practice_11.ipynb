{
  "nbformat": 4,
  "nbformat_minor": 0,
  "metadata": {
    "colab": {
      "provenance": []
    },
    "kernelspec": {
      "name": "python3",
      "display_name": "Python 3"
    },
    "language_info": {
      "name": "python"
    }
  },
  "cells": [
    {
      "cell_type": "code",
      "execution_count": 1,
      "metadata": {
        "id": "jMgoQwQYx-7t"
      },
      "outputs": [],
      "source": [
        "import math"
      ]
    },
    {
      "cell_type": "code",
      "source": [
        "math.sqrt (49)"
      ],
      "metadata": {
        "colab": {
          "base_uri": "https://localhost:8080/"
        },
        "id": "T9mYlmBt1336",
        "outputId": "5c111ab3-54cd-4e20-9787-d4b15af4004e"
      },
      "execution_count": 2,
      "outputs": [
        {
          "output_type": "execute_result",
          "data": {
            "text/plain": [
              "7.0"
            ]
          },
          "metadata": {},
          "execution_count": 2
        }
      ]
    },
    {
      "cell_type": "code",
      "source": [
        "math.ceil(49.1)"
      ],
      "metadata": {
        "colab": {
          "base_uri": "https://localhost:8080/"
        },
        "id": "EVTnxzgX2Ahd",
        "outputId": "703a3c32-f8a1-438f-a7b9-d87cba03a500"
      },
      "execution_count": 3,
      "outputs": [
        {
          "output_type": "execute_result",
          "data": {
            "text/plain": [
              "50"
            ]
          },
          "metadata": {},
          "execution_count": 3
        }
      ]
    },
    {
      "cell_type": "code",
      "source": [
        "if __name__ == '__main__':\n",
        "    print(\"Hello, World!\")\n",
        "\n",
        "    ''' The line if __name__ == '__main__': checks whether the script is being\n",
        "     run as the main program or if it's being imported as a module.\n",
        "     If the script is being run as the main program (i.e., __name__ is '__main__'),\n",
        "      then the code inside the if block will be executed.\n",
        "\n",
        "In your case, the code inside the if block is print(\"Hello, World!\").\n",
        "So, if the script is the main program, it will print \"Hello, World!\" to the console.'''"
      ],
      "metadata": {
        "colab": {
          "base_uri": "https://localhost:8080/"
        },
        "id": "F7hWzOT-2KFo",
        "outputId": "4e8d3085-d708-4903-9e71-50bff89624a1"
      },
      "execution_count": 1,
      "outputs": [
        {
          "output_type": "stream",
          "name": "stdout",
          "text": [
            "Hello, World!\n"
          ]
        }
      ]
    },
    {
      "cell_type": "code",
      "source": [
        "#!/bin/python3\n",
        "\n",
        "import math\n",
        "import os\n",
        "import random\n",
        "import re\n",
        "import sys\n",
        "\n",
        "\n",
        "if __name__ == '__main__':\n",
        "    n = int(input().strip())\n",
        "    # The .strip() method is used to remove any leading or trailing whitespaces from the input.\n",
        "\n",
        "if n % 2 != 0 or (n % 2 == 0 and (n in range(6,21))):\n",
        "    print(\"Weird\")\n",
        "elif n % 2 == 0 and ((n in range(2,6) or n > 20)):\n",
        "    print(\"Not Weird\")"
      ],
      "metadata": {
        "colab": {
          "base_uri": "https://localhost:8080/"
        },
        "id": "iplBI4yVcYRR",
        "outputId": "51c70dc9-81df-4995-e805-6dc6e37ee2ad"
      },
      "execution_count": 3,
      "outputs": [
        {
          "output_type": "stream",
          "name": "stdout",
          "text": [
            "65\n",
            "Weird\n"
          ]
        }
      ]
    },
    {
      "cell_type": "code",
      "source": [],
      "metadata": {
        "id": "MzqHwnsocYcJ"
      },
      "execution_count": null,
      "outputs": []
    }
  ]
}